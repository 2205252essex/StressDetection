{
  "nbformat": 4,
  "nbformat_minor": 0,
  "metadata": {
    "colab": {
      "provenance": []
    },
    "kernelspec": {
      "name": "python3",
      "display_name": "Python 3"
    },
    "language_info": {
      "name": "python"
    }
  },
  "cells": [
    {
      "cell_type": "markdown",
      "source": [
        "Importing the dataset"
      ],
      "metadata": {
        "id": "xjsQuw685r3a"
      }
    },
    {
      "cell_type": "code",
      "execution_count": 19,
      "metadata": {
        "id": "6YJZuDMDvaYP"
      },
      "outputs": [],
      "source": [
        "\n",
        "from google.colab import drive\n",
        "import os\n",
        "import pandas as pd\n",
        "\n",
        "def import_dataset():\n",
        "\t\n",
        "  drive.mount('/content/gdrive', force_remount=True)\n",
        "  input=os.path.join('./CE888/Data/','combined_lagEDA.csv')\n",
        "  input=os.path.join(os.path.join('gdrive', 'MyDrive', input))\n",
        "  df=pd.read_csv(input)\n",
        "  return df"
      ]
    },
    {
      "cell_type": "markdown",
      "source": [
        "Function to calculate performance"
      ],
      "metadata": {
        "id": "6So9lfit5x7j"
      }
    },
    {
      "cell_type": "code",
      "source": [
        "from sklearn.metrics import classification_report, f1_score, accuracy_score\n",
        "import numpy as np\n",
        "\n",
        "def calculate_performance(y_true, y_pred):\n",
        "     \n",
        "\n",
        "  acc = accuracy_score(y_true, y_pred)\n",
        "  print('Accuracy Score: ', acc)\n",
        "\n",
        "  f1score=f1_score(y_true, y_pred, average='macro')\n",
        "  print('F1 Score(macro): ', f1score)\n",
        "\n",
        "\n",
        "  print(classification_report(y_true, y_pred))\n",
        "\n"
      ],
      "metadata": {
        "id": "ZlgB9KHtv_eP"
      },
      "execution_count": 11,
      "outputs": []
    },
    {
      "cell_type": "markdown",
      "source": [
        "Print Accuracy"
      ],
      "metadata": {
        "id": "QX-eDBNE6ERd"
      }
    },
    {
      "cell_type": "code",
      "source": [
        "def print_accuracy(scores):\n",
        "  print('Fold accuracy', scores['test_accuracy'])\n",
        "  print('Average accuracy', np.mean(scores['test_accuracy']))"
      ],
      "metadata": {
        "id": "aTHvQO_bLanZ"
      },
      "execution_count": 10,
      "outputs": []
    },
    {
      "cell_type": "markdown",
      "source": [
        "Data Preprocessing"
      ],
      "metadata": {
        "id": "zVZrQowg6GvT"
      }
    },
    {
      "cell_type": "code",
      "source": [
        "def preprocess_data(df_input):\n",
        "  processed_dataframe=df_input.drop(['1','2','3','4','5','6','7','8','9','10','11','12','13','14','15','16','17','18','19','20','21','22','23','24','25','26','27','28','29','30'],axis=1)\n",
        "  input_array = processed_dataframe.drop(['Stress'], axis=1).to_numpy()\n",
        "  output_array = processed_dataframe.loc[:,'Stress'].to_numpy()\n",
        "  print(input_array.shape)\n",
        "  print(output_array.shape)\n",
        "  return input_array,output_array"
      ],
      "metadata": {
        "id": "kkyOfimOweV9"
      },
      "execution_count": 12,
      "outputs": []
    },
    {
      "cell_type": "markdown",
      "source": [
        "Importing the libraries"
      ],
      "metadata": {
        "id": "_2UDW1Ud6NFL"
      }
    },
    {
      "cell_type": "code",
      "source": [
        "import numpy as np\n",
        "import pandas as pd\n",
        "from sklearn.model_selection import train_test_split\n",
        "from sklearn.svm import SVC\n",
        "from sklearn.model_selection import cross_validate, StratifiedKFold, GridSearchCV\n",
        "from sklearn.pipeline import Pipeline\n",
        "from sklearn.preprocessing import MinMaxScaler\n",
        "from sklearn.model_selection import cross_val_predict\n",
        "from sklearn.linear_model import RidgeClassifier\n",
        "from sklearn.tree import DecisionTreeClassifier"
      ],
      "metadata": {
        "id": "oy7uLLTfxLPt"
      },
      "execution_count": 31,
      "outputs": []
    },
    {
      "cell_type": "markdown",
      "source": [
        "Calling the functions for import"
      ],
      "metadata": {
        "id": "aLozJbim6PmM"
      }
    },
    {
      "cell_type": "code",
      "source": [
        "df_input=import_dataset()\n",
        "input_array,output_array=preprocess_data(df_input)"
      ],
      "metadata": {
        "colab": {
          "base_uri": "https://localhost:8080/"
        },
        "id": "Y2QRDYBGLzXU",
        "outputId": "7bcb96f7-0431-4bc1-9c99-eeb439281dc3"
      },
      "execution_count": 20,
      "outputs": [
        {
          "output_type": "stream",
          "name": "stdout",
          "text": [
            "Mounted at /content/gdrive\n",
            "(12445, 18)\n",
            "(12445,)\n"
          ]
        }
      ]
    },
    {
      "cell_type": "markdown",
      "source": [
        "Data Splitting"
      ],
      "metadata": {
        "id": "G1ucbEHi6S3W"
      }
    },
    {
      "cell_type": "code",
      "source": [
        "input_train, input_test, output_train, output_test = train_test_split(input_array, output_array, test_size=0.2, stratify=output_array)"
      ],
      "metadata": {
        "id": "jQw0UerpMWyX"
      },
      "execution_count": 21,
      "outputs": []
    },
    {
      "cell_type": "markdown",
      "source": [
        "Grid Search CV based SVM model"
      ],
      "metadata": {
        "id": "hL92-jq46VSd"
      }
    },
    {
      "cell_type": "code",
      "source": [
        "cv_svc = StratifiedKFold(shuffle=True,n_splits=10)\n",
        "svm=SVC()\n",
        "\n",
        "pipe_svc = Pipeline([('scaler',MinMaxScaler()),('svm',svm)])  # build pipeline\n",
        "param_grid_svc = {\n",
        "                 'svm__kernel':['linear', 'poly'],\n",
        "                 'svm__gamma':['scale', 'auto'],\n",
        "                \n",
        "                 }\n",
        "search_svc = GridSearchCV(pipe_svc, param_grid_svc, n_jobs=-1)\n",
        "scores_svc = cross_validate(search_svc, input_train, output_train, scoring=['accuracy'], cv=cv_svc, return_estimator=True)"
      ],
      "metadata": {
        "id": "5UopAEbeMgEo"
      },
      "execution_count": 29,
      "outputs": []
    },
    {
      "cell_type": "markdown",
      "source": [
        "Calculating Accuracy"
      ],
      "metadata": {
        "id": "nOQj-lpS6gtN"
      }
    },
    {
      "cell_type": "code",
      "source": [
        "print_accuracy(scores_svc)\n",
        "\n",
        "y_predict = cross_val_predict(pipe_svc, input_train, output_train, cv=cv_svc)\n",
        "\n",
        "calculate_performance(output_train,y_predict)\n",
        "\n",
        "#Model evaluation on Test Data\n",
        "search_svc.fit(input_train,output_train)\n",
        "test_pred=search_svc.best_estimator_.predict(input_test)\n",
        "\n",
        "calculate_performance(output_test,test_pred)"
      ],
      "metadata": {
        "colab": {
          "base_uri": "https://localhost:8080/"
        },
        "id": "aM73KKupObt0",
        "outputId": "d9fb24a8-2a93-4701-db4d-4f6504e68c00"
      },
      "execution_count": 30,
      "outputs": [
        {
          "output_type": "stream",
          "name": "stdout",
          "text": [
            "Fold accuracy [0.65863454 0.6435743  0.63654618 0.64457831 0.6435743  0.66767068\n",
            " 0.64020101 0.64924623 0.63517588 0.65025126]\n",
            "Average accuracy 0.6469452685112308\n",
            "Accuracy Score:  0.6893330654881479\n",
            "F1 Score(macro):  0.5908936520259508\n",
            "              precision    recall  f1-score   support\n",
            "\n",
            "         0.0       0.81      0.76      0.79      4328\n",
            "         1.0       0.67      0.18      0.28      1800\n",
            "         2.0       0.60      0.85      0.70      3828\n",
            "\n",
            "    accuracy                           0.69      9956\n",
            "   macro avg       0.69      0.60      0.59      9956\n",
            "weighted avg       0.70      0.69      0.66      9956\n",
            "\n",
            "Accuracy Score:  0.635596625150663\n",
            "F1 Score(macro):  0.4834475995103351\n",
            "              precision    recall  f1-score   support\n",
            "\n",
            "         0.0       0.74      0.72      0.73      1082\n",
            "         1.0       0.87      0.03      0.06       450\n",
            "         2.0       0.55      0.83      0.67       957\n",
            "\n",
            "    accuracy                           0.64      2489\n",
            "   macro avg       0.72      0.52      0.48      2489\n",
            "weighted avg       0.69      0.64      0.58      2489\n",
            "\n"
          ]
        }
      ]
    },
    {
      "cell_type": "markdown",
      "source": [
        "Grid Search cv based DT model"
      ],
      "metadata": {
        "id": "qrLpp5lb6ZzZ"
      }
    },
    {
      "cell_type": "code",
      "source": [
        "cv_DT = StratifiedKFold(shuffle=True,n_splits=10)\n",
        "dt=DecisionTreeClassifier()\n",
        "\n",
        "pipe_DT = Pipeline([('scaler',MinMaxScaler()),('dt', dt)])  # build pipeline\n",
        "param_grid_DT = {\n",
        "                 'dt__random_state':[0, 1, 2, 3, 4, 5, 10, 15,20,35,50],\n",
        "                 'dt__criterion':['gini','entropy'],\n",
        "                 }\n",
        "search_DT = GridSearchCV(pipe_DT, param_grid_DT, n_jobs=-1)\n",
        "scores_DT = cross_validate(search_DT, input_train, output_train, scoring=['accuracy'], cv=cv_DT, return_estimator=True)"
      ],
      "metadata": {
        "id": "Yykw6-WTPfWc"
      },
      "execution_count": 32,
      "outputs": []
    },
    {
      "cell_type": "markdown",
      "source": [
        "Calculating Accuracy"
      ],
      "metadata": {
        "id": "lQY_LThg6eQU"
      }
    },
    {
      "cell_type": "code",
      "source": [
        "print_accuracy(scores_DT)\n",
        "\n",
        "y_predict = cross_val_predict(pipe_DT, input_train, output_train, cv=cv_DT)\n",
        "\n",
        "calculate_performance(output_train,y_predict)\n",
        "\n",
        "#Model evaluation on Test Data\n",
        "search_DT.fit(input_train,output_train)\n",
        "test_pred=search_DT.best_estimator_.predict(input_test)\n",
        "\n",
        "calculate_performance(output_test,test_pred)"
      ],
      "metadata": {
        "colab": {
          "base_uri": "https://localhost:8080/"
        },
        "id": "6FFe18oUQnzX",
        "outputId": "ec0add3d-9343-48ea-bd63-d63b43d1fe1e"
      },
      "execution_count": 34,
      "outputs": [
        {
          "output_type": "stream",
          "name": "stdout",
          "text": [
            "Fold accuracy [0.86646586 0.84538153 0.88253012 0.8564257  0.87550201 0.84236948\n",
            " 0.87638191 0.86633166 0.84924623 0.85628141]\n",
            "Average accuracy 0.8616915904825332\n",
            "Accuracy Score:  0.8323623945359582\n",
            "F1 Score(macro):  0.8058963563320941\n",
            "              precision    recall  f1-score   support\n",
            "\n",
            "         0.0       0.89      0.90      0.90      4328\n",
            "         1.0       0.70      0.70      0.70      1800\n",
            "         2.0       0.83      0.82      0.82      3828\n",
            "\n",
            "    accuracy                           0.83      9956\n",
            "   macro avg       0.81      0.81      0.81      9956\n",
            "weighted avg       0.83      0.83      0.83      9956\n",
            "\n",
            "Accuracy Score:  0.8726396143029329\n",
            "F1 Score(macro):  0.8509485222638511\n",
            "              precision    recall  f1-score   support\n",
            "\n",
            "         0.0       0.92      0.92      0.92      1082\n",
            "         1.0       0.77      0.76      0.76       450\n",
            "         2.0       0.86      0.87      0.87       957\n",
            "\n",
            "    accuracy                           0.87      2489\n",
            "   macro avg       0.85      0.85      0.85      2489\n",
            "weighted avg       0.87      0.87      0.87      2489\n",
            "\n"
          ]
        }
      ]
    }
  ]
}